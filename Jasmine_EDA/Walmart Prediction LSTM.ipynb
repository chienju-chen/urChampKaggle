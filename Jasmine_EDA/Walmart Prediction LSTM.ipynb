{
 "cells": [
  {
   "cell_type": "code",
   "execution_count": 1,
   "metadata": {},
   "outputs": [
    {
     "name": "stderr",
     "output_type": "stream",
     "text": [
      "Using TensorFlow backend.\n"
     ]
    }
   ],
   "source": [
    "import pandas as pd\n",
    "import numpy as np\n",
    "import matplotlib.pyplot as plt\n",
    "from sklearn.preprocessing import MinMaxScaler\n",
    "from keras.models import Sequential\n",
    "from keras.layers import Dense\n",
    "from keras.layers import LSTM"
   ]
  },
  {
   "cell_type": "markdown",
   "metadata": {},
   "source": [
    "### Read Data"
   ]
  },
  {
   "cell_type": "code",
   "execution_count": 2,
   "metadata": {},
   "outputs": [],
   "source": [
    "calendar = pd.read_csv(r'G:\\我的雲端硬碟\\UIUC-IS\\Kaggle\\m5-forecasting-accuracy\\calendar.csv')\n",
    "sales = pd.read_csv(r'G:\\我的雲端硬碟\\UIUC-IS\\Kaggle\\m5-forecasting-accuracy\\sales_train_validation.csv')\n",
    "sell_price = pd.read_csv(r'G:\\我的雲端硬碟\\UIUC-IS\\Kaggle\\m5-forecasting-accuracy\\sell_prices.csv')"
   ]
  },
  {
   "cell_type": "markdown",
   "metadata": {},
   "source": [
    "### Fill in the columns to be predicted\n",
    "History data : d_1 ~ d_1913\n",
    "\n",
    "Predict:\n",
    "\n",
    "- Validation : d_1914 ~ d_1941\n",
    "- Evaluation : d_1942 ~ d_1969"
   ]
  },
  {
   "cell_type": "code",
   "execution_count": 3,
   "metadata": {},
   "outputs": [
    {
     "name": "stdout",
     "output_type": "stream",
     "text": [
      "                                  id        item_id    dept_id   cat_id  \\\n",
      "0      HOBBIES_1_001_CA_1_validation  HOBBIES_1_001  HOBBIES_1  HOBBIES   \n",
      "1      HOBBIES_1_002_CA_1_validation  HOBBIES_1_002  HOBBIES_1  HOBBIES   \n",
      "2      HOBBIES_1_003_CA_1_validation  HOBBIES_1_003  HOBBIES_1  HOBBIES   \n",
      "3      HOBBIES_1_004_CA_1_validation  HOBBIES_1_004  HOBBIES_1  HOBBIES   \n",
      "4      HOBBIES_1_005_CA_1_validation  HOBBIES_1_005  HOBBIES_1  HOBBIES   \n",
      "...                              ...            ...        ...      ...   \n",
      "30485    FOODS_3_823_WI_3_validation    FOODS_3_823    FOODS_3    FOODS   \n",
      "30486    FOODS_3_824_WI_3_validation    FOODS_3_824    FOODS_3    FOODS   \n",
      "30487    FOODS_3_825_WI_3_validation    FOODS_3_825    FOODS_3    FOODS   \n",
      "30488    FOODS_3_826_WI_3_validation    FOODS_3_826    FOODS_3    FOODS   \n",
      "30489    FOODS_3_827_WI_3_validation    FOODS_3_827    FOODS_3    FOODS   \n",
      "\n",
      "      store_id state_id  d_1  d_2  d_3  d_4  ...  d_1960  d_1961  d_1962  \\\n",
      "0         CA_1       CA    0    0    0    0  ...     NaN     NaN     NaN   \n",
      "1         CA_1       CA    0    0    0    0  ...     NaN     NaN     NaN   \n",
      "2         CA_1       CA    0    0    0    0  ...     NaN     NaN     NaN   \n",
      "3         CA_1       CA    0    0    0    0  ...     NaN     NaN     NaN   \n",
      "4         CA_1       CA    0    0    0    0  ...     NaN     NaN     NaN   \n",
      "...        ...      ...  ...  ...  ...  ...  ...     ...     ...     ...   \n",
      "30485     WI_3       WI    0    0    2    2  ...     NaN     NaN     NaN   \n",
      "30486     WI_3       WI    0    0    0    0  ...     NaN     NaN     NaN   \n",
      "30487     WI_3       WI    0    6    0    2  ...     NaN     NaN     NaN   \n",
      "30488     WI_3       WI    0    0    0    0  ...     NaN     NaN     NaN   \n",
      "30489     WI_3       WI    0    0    0    0  ...     NaN     NaN     NaN   \n",
      "\n",
      "       d_1963  d_1964  d_1965  d_1966  d_1967  d_1968  d_1969  \n",
      "0         NaN     NaN     NaN     NaN     NaN     NaN     NaN  \n",
      "1         NaN     NaN     NaN     NaN     NaN     NaN     NaN  \n",
      "2         NaN     NaN     NaN     NaN     NaN     NaN     NaN  \n",
      "3         NaN     NaN     NaN     NaN     NaN     NaN     NaN  \n",
      "4         NaN     NaN     NaN     NaN     NaN     NaN     NaN  \n",
      "...       ...     ...     ...     ...     ...     ...     ...  \n",
      "30485     NaN     NaN     NaN     NaN     NaN     NaN     NaN  \n",
      "30486     NaN     NaN     NaN     NaN     NaN     NaN     NaN  \n",
      "30487     NaN     NaN     NaN     NaN     NaN     NaN     NaN  \n",
      "30488     NaN     NaN     NaN     NaN     NaN     NaN     NaN  \n",
      "30489     NaN     NaN     NaN     NaN     NaN     NaN     NaN  \n",
      "\n",
      "[30490 rows x 1975 columns]\n"
     ]
    }
   ],
   "source": [
    "sales_fill_date = sales.copy()\n",
    "date_list = []\n",
    "for i in range(1914, 1970):\n",
    "    date_list.append('d_'+str(i))\n",
    "fill_date = pd.DataFrame(columns = date_list)\n",
    "sales_fill_date = pd.concat([sales_fill_date, fill_date], axis = 1)\n",
    "print(sales_fill_date)"
   ]
  },
  {
   "cell_type": "markdown",
   "metadata": {},
   "source": [
    "### Select a group to predict\n",
    "\n",
    "Demo\n",
    "- cat_id : HOBBIES\n",
    "- state_id : CA"
   ]
  },
  {
   "cell_type": "code",
   "execution_count": 4,
   "metadata": {},
   "outputs": [
    {
     "name": "stdout",
     "output_type": "stream",
     "text": [
      "                                    id        item_id    dept_id   cat_id  \\\n",
      "0        HOBBIES_1_001_CA_1_validation  HOBBIES_1_001  HOBBIES_1  HOBBIES   \n",
      "1        HOBBIES_1_002_CA_1_validation  HOBBIES_1_002  HOBBIES_1  HOBBIES   \n",
      "2        HOBBIES_1_003_CA_1_validation  HOBBIES_1_003  HOBBIES_1  HOBBIES   \n",
      "3        HOBBIES_1_004_CA_1_validation  HOBBIES_1_004  HOBBIES_1  HOBBIES   \n",
      "4        HOBBIES_1_005_CA_1_validation  HOBBIES_1_005  HOBBIES_1  HOBBIES   \n",
      "...                                ...            ...        ...      ...   \n",
      "1112480  HOBBIES_2_145_CA_1_validation  HOBBIES_2_145  HOBBIES_2  HOBBIES   \n",
      "1112481  HOBBIES_2_146_CA_1_validation  HOBBIES_2_146  HOBBIES_2  HOBBIES   \n",
      "1112482  HOBBIES_2_147_CA_1_validation  HOBBIES_2_147  HOBBIES_2  HOBBIES   \n",
      "1112483  HOBBIES_2_148_CA_1_validation  HOBBIES_2_148  HOBBIES_2  HOBBIES   \n",
      "1112484  HOBBIES_2_149_CA_1_validation  HOBBIES_2_149  HOBBIES_2  HOBBIES   \n",
      "\n",
      "        store_id state_id       d sales        date  wm_yr_wk  ... month  \\\n",
      "0           CA_1       CA     d_1     0  2011-01-29     11101  ...     1   \n",
      "1           CA_1       CA     d_1     0  2011-01-29     11101  ...     1   \n",
      "2           CA_1       CA     d_1     0  2011-01-29     11101  ...     1   \n",
      "3           CA_1       CA     d_1     0  2011-01-29     11101  ...     1   \n",
      "4           CA_1       CA     d_1     0  2011-01-29     11101  ...     1   \n",
      "...          ...      ...     ...   ...         ...       ...  ...   ...   \n",
      "1112480     CA_1       CA  d_1969   NaN  2016-06-19     11621  ...     6   \n",
      "1112481     CA_1       CA  d_1969   NaN  2016-06-19     11621  ...     6   \n",
      "1112482     CA_1       CA  d_1969   NaN  2016-06-19     11621  ...     6   \n",
      "1112483     CA_1       CA  d_1969   NaN  2016-06-19     11621  ...     6   \n",
      "1112484     CA_1       CA  d_1969   NaN  2016-06-19     11621  ...     6   \n",
      "\n",
      "         year  event_name_1  event_type_1  event_name_2 event_type_2 snap_CA  \\\n",
      "0        2011           NaN           NaN           NaN          NaN       0   \n",
      "1        2011           NaN           NaN           NaN          NaN       0   \n",
      "2        2011           NaN           NaN           NaN          NaN       0   \n",
      "3        2011           NaN           NaN           NaN          NaN       0   \n",
      "4        2011           NaN           NaN           NaN          NaN       0   \n",
      "...       ...           ...           ...           ...          ...     ...   \n",
      "1112480  2016  NBAFinalsEnd      Sporting  Father's day     Cultural       0   \n",
      "1112481  2016  NBAFinalsEnd      Sporting  Father's day     Cultural       0   \n",
      "1112482  2016  NBAFinalsEnd      Sporting  Father's day     Cultural       0   \n",
      "1112483  2016  NBAFinalsEnd      Sporting  Father's day     Cultural       0   \n",
      "1112484  2016  NBAFinalsEnd      Sporting  Father's day     Cultural       0   \n",
      "\n",
      "        snap_TX  snap_WI  sell_price  \n",
      "0             0        0         NaN  \n",
      "1             0        0         NaN  \n",
      "2             0        0         NaN  \n",
      "3             0        0         NaN  \n",
      "4             0        0         NaN  \n",
      "...         ...      ...         ...  \n",
      "1112480       0        0        2.88  \n",
      "1112481       0        0        1.97  \n",
      "1112482       0        0        0.97  \n",
      "1112483       0        0        0.88  \n",
      "1112484       0        0        0.97  \n",
      "\n",
      "[1112485 rows x 22 columns]\n"
     ]
    }
   ],
   "source": [
    "df = sales_fill_date[(sales_fill_date['cat_id']=='HOBBIES') & (sales_fill_date['store_id']=='CA_1')]\n",
    "df_melt = pd.melt(df, id_vars=df.columns[:6], value_vars=df.columns[6:])\n",
    "df_melt.columns = ['id', 'item_id', 'dept_id', 'cat_id', 'store_id', 'state_id', 'd', 'sales']\n",
    "df_all = pd.merge(df_melt, calendar, how = 'left')\n",
    "df_all = pd.merge(df_all, sell_price, how = 'left')\n",
    "print(df_all)"
   ]
  },
  {
   "cell_type": "markdown",
   "metadata": {},
   "source": [
    "### Calculate the sum of each day"
   ]
  },
  {
   "cell_type": "code",
   "execution_count": 5,
   "metadata": {},
   "outputs": [
    {
     "name": "stdout",
     "output_type": "stream",
     "text": [
      "         d  sales\n",
      "0        1    556\n",
      "1081     2    498\n",
      "1192     3    415\n",
      "1303     4    392\n",
      "1414     5    268\n",
      "...    ...    ...\n",
      "1073  1965      0\n",
      "1074  1966      0\n",
      "1075  1967      0\n",
      "1076  1968      0\n",
      "1077  1969      0\n",
      "\n",
      "[1969 rows x 2 columns]\n"
     ]
    }
   ],
   "source": [
    "df_for_use = df_all[['d', 'sales']].groupby(['d']).sum().reset_index()\n",
    "df_for_use['d'] = df_for_use['d'].str.replace('d_', '').astype('int')\n",
    "df_for_use = df_for_use.sort_values(['d'])\n",
    "print(df_for_use)"
   ]
  },
  {
   "cell_type": "markdown",
   "metadata": {},
   "source": [
    "### Add Lag info"
   ]
  },
  {
   "cell_type": "code",
   "execution_count": 6,
   "metadata": {},
   "outputs": [
    {
     "name": "stdout",
     "output_type": "stream",
     "text": [
      "         d  sales  lag_56  lag_57  lag_58  lag_59  lag_60  lag_61  lag_62  \\\n",
      "0      365    494   778.0   482.0   389.0   276.0   480.0   312.0   320.0   \n",
      "1      366    411   551.0   778.0   482.0   389.0   276.0   480.0   312.0   \n",
      "2      367    263   359.0   551.0   778.0   482.0   389.0   276.0   480.0   \n",
      "3      368    329   310.0   359.0   551.0   778.0   482.0   389.0   276.0   \n",
      "4      369    403   485.0   310.0   359.0   551.0   778.0   482.0   389.0   \n",
      "...    ...    ...     ...     ...     ...     ...     ...     ...     ...   \n",
      "1600  1965      0   363.0   495.0   542.0   655.0   722.0   401.0   429.0   \n",
      "1601  1966      0   410.0   363.0   495.0   542.0   655.0   722.0   401.0   \n",
      "1602  1967      0   527.0   410.0   363.0   495.0   542.0   655.0   722.0   \n",
      "1603  1968      0   670.0   527.0   410.0   363.0   495.0   542.0   655.0   \n",
      "1604  1969      0   714.0   670.0   527.0   410.0   363.0   495.0   542.0   \n",
      "\n",
      "      lag_63  ...  lag_355  lag_356  lag_357  lag_358  lag_359  lag_360  \\\n",
      "0      365.0  ...    384.0    432.0    769.0    346.0    467.0    268.0   \n",
      "1      320.0  ...    496.0    384.0    432.0    769.0    346.0    467.0   \n",
      "2      312.0  ...    399.0    496.0    384.0    432.0    769.0    346.0   \n",
      "3      480.0  ...    454.0    399.0    496.0    384.0    432.0    769.0   \n",
      "4      276.0  ...    453.0    454.0    399.0    496.0    384.0    432.0   \n",
      "...      ...  ...      ...      ...      ...      ...      ...      ...   \n",
      "1600   415.0  ...    552.0    471.0    511.0    480.0    490.0    499.0   \n",
      "1601   429.0  ...    603.0    552.0    471.0    511.0    480.0    490.0   \n",
      "1602   401.0  ...    684.0    603.0    552.0    471.0    511.0    480.0   \n",
      "1603   722.0  ...    558.0    684.0    603.0    552.0    471.0    511.0   \n",
      "1604   655.0  ...    481.0    558.0    684.0    603.0    552.0    471.0   \n",
      "\n",
      "      lag_361  lag_362  lag_363  lag_364  \n",
      "0       392.0    415.0    498.0    556.0  \n",
      "1       268.0    392.0    415.0    498.0  \n",
      "2       467.0    268.0    392.0    415.0  \n",
      "3       346.0    467.0    268.0    392.0  \n",
      "4       769.0    346.0    467.0    268.0  \n",
      "...       ...      ...      ...      ...  \n",
      "1600    613.0    543.0    468.0    516.0  \n",
      "1601    499.0    613.0    543.0    468.0  \n",
      "1602    490.0    499.0    613.0    543.0  \n",
      "1603    480.0    490.0    499.0    613.0  \n",
      "1604    511.0    480.0    490.0    499.0  \n",
      "\n",
      "[1605 rows x 311 columns]\n"
     ]
    }
   ],
   "source": [
    "df_supervised = df_for_use.copy()\n",
    "for inc in range(56,365):\n",
    "    field_name = 'lag_' + str(inc)\n",
    "    df_supervised[field_name] = df_supervised['sales'].shift(inc)\n",
    "\n",
    "df_supervised = df_supervised.dropna().reset_index(drop=True)\n",
    "print(df_supervised)"
   ]
  },
  {
   "cell_type": "markdown",
   "metadata": {},
   "source": [
    "### Split data"
   ]
  },
  {
   "cell_type": "code",
   "execution_count": 7,
   "metadata": {},
   "outputs": [],
   "source": [
    "df_model = df_supervised.drop(['sales','d'],axis=1)\n",
    "train_set, test_set = df_model[0:-84].values, df_model[-84:-56].values\n",
    "\n",
    "scaler = MinMaxScaler(feature_range=(-1, 1))\n",
    "scaler = scaler.fit(train_set)\n",
    "\n",
    "train_set = train_set.reshape(train_set.shape[0], train_set.shape[1])\n",
    "train_set_scaled = scaler.transform(train_set)\n",
    "\n",
    "test_set = test_set.reshape(test_set.shape[0], test_set.shape[1])\n",
    "test_set_scaled = scaler.transform(test_set)\n",
    "\n",
    "X_train, y_train = train_set_scaled[:, 1:], train_set_scaled[:, 0:1]\n",
    "X_train = X_train.reshape(X_train.shape[0], 1, X_train.shape[1])\n",
    "X_test, y_test = test_set_scaled[:, 1:], test_set_scaled[:, 0:1]\n",
    "X_test = X_test.reshape(X_test.shape[0], 1, X_test.shape[1])"
   ]
  },
  {
   "cell_type": "markdown",
   "metadata": {},
   "source": [
    "### Build LSTM model"
   ]
  },
  {
   "cell_type": "code",
   "execution_count": 8,
   "metadata": {},
   "outputs": [
    {
     "name": "stderr",
     "output_type": "stream",
     "text": [
      "C:\\Users\\USER\\Anaconda3\\lib\\site-packages\\ipykernel_launcher.py:5: UserWarning: The `nb_epoch` argument in `fit` has been renamed `epochs`.\n",
      "  \"\"\"\n"
     ]
    },
    {
     "name": "stdout",
     "output_type": "stream",
     "text": [
      "Epoch 1/100\n",
      "1521/1521 [==============================] - 2s 1ms/step - loss: 0.0452\n",
      "Epoch 2/100\n",
      "1521/1521 [==============================] - 2s 1ms/step - loss: 0.0336\n",
      "Epoch 3/100\n",
      "1521/1521 [==============================] - 2s 986us/step - loss: 0.0287\n",
      "Epoch 4/100\n",
      "1521/1521 [==============================] - 1s 975us/step - loss: 0.0250\n",
      "Epoch 5/100\n",
      "1521/1521 [==============================] - 2s 991us/step - loss: 0.0219\n",
      "Epoch 6/100\n",
      "1521/1521 [==============================] - 1s 984us/step - loss: 0.0192\n",
      "Epoch 7/100\n",
      "1521/1521 [==============================] - 2s 1ms/step - loss: 0.0167\n",
      "Epoch 8/100\n",
      "1521/1521 [==============================] - 1s 981us/step - loss: 0.0144 1s - los - ETA: 0s - loss - ETA: 0s - \n",
      "Epoch 9/100\n",
      "1521/1521 [==============================] - 1s 973us/step - loss: 0.0126\n",
      "Epoch 10/100\n",
      "1521/1521 [==============================] - 2s 988us/step - loss: 0.0111\n",
      "Epoch 11/100\n",
      "1521/1521 [==============================] - 1s 974us/step - loss: 0.0099 1s - l - ETA:\n",
      "Epoch 12/100\n",
      "1521/1521 [==============================] - 1s 977us/step - loss: 0.0088\n",
      "Epoch 13/100\n",
      "1521/1521 [==============================] - 2s 996us/step - loss: 0.0080\n",
      "Epoch 14/100\n",
      "1521/1521 [==============================] - 1s 969us/step - loss: 0.0072\n",
      "Epoch 15/100\n",
      "1521/1521 [==============================] - 1s 978us/step - loss: 0.0070\n",
      "Epoch 16/100\n",
      "1521/1521 [==============================] - 1s 983us/step - loss: 0.0068\n",
      "Epoch 17/100\n",
      "1521/1521 [==============================] - 2s 1ms/step - loss: 0.0066\n",
      "Epoch 18/100\n",
      "1521/1521 [==============================] - 2s 1ms/step - loss: 0.0065\n",
      "Epoch 19/100\n",
      "1521/1521 [==============================] - 2s 996us/step - loss: 0.0057\n",
      "Epoch 20/100\n",
      "1521/1521 [==============================] - 1s 971us/step - loss: 0.0051\n",
      "Epoch 21/100\n",
      "1521/1521 [==============================] - 1s 977us/step - loss: 0.0045\n",
      "Epoch 22/100\n",
      "1521/1521 [==============================] - 1s 971us/step - loss: 0.0047 0\n",
      "Epoch 23/100\n",
      "1521/1521 [==============================] - 1s 961us/step - loss: 0.0047 1s - loss: 0. - ETA:\n",
      "Epoch 24/100\n",
      "1521/1521 [==============================] - 1s 949us/step - loss: 0.0044\n",
      "Epoch 25/100\n",
      "1521/1521 [==============================] - 1s 968us/step - loss: 0.0039\n",
      "Epoch 26/100\n",
      "1521/1521 [==============================] - 1s 978us/step - loss: 0.0039\n",
      "Epoch 27/100\n",
      "1521/1521 [==============================] - 2s 989us/step - loss: 0.0043\n",
      "Epoch 28/100\n",
      "1521/1521 [==============================] - 2s 1ms/step - loss: 0.0040\n",
      "Epoch 29/100\n",
      "1521/1521 [==============================] - 1s 983us/step - loss: 0.0037\n",
      "Epoch 30/100\n",
      "1521/1521 [==============================] - 1s 975us/step - loss: 0.0039\n",
      "Epoch 31/100\n",
      "1521/1521 [==============================] - 1s 986us/step - loss: 0.0035\n",
      "Epoch 32/100\n",
      "1521/1521 [==============================] - 1s 977us/step - loss: 0.0032\n",
      "Epoch 33/100\n",
      "1521/1521 [==============================] - 2s 1ms/step - loss: 0.0029\n",
      "Epoch 34/100\n",
      "1521/1521 [==============================] - 2s 1ms/step - loss: 0.0032\n",
      "Epoch 35/100\n",
      "1521/1521 [==============================] - 2s 1ms/step - loss: 0.0040\n",
      "Epoch 36/100\n",
      "1521/1521 [==============================] - 2s 1ms/step - loss: 0.0036\n",
      "Epoch 37/100\n",
      "1521/1521 [==============================] - 2s 1ms/step - loss: 0.0028\n",
      "Epoch 38/100\n",
      "1521/1521 [==============================] - 2s 1ms/step - loss: 0.0027\n",
      "Epoch 39/100\n",
      "1521/1521 [==============================] - 2s 1ms/step - loss: 0.0024\n",
      "Epoch 40/100\n",
      "1521/1521 [==============================] - 2s 1ms/step - loss: 0.0023\n",
      "Epoch 41/100\n",
      "1521/1521 [==============================] - 1s 977us/step - loss: 0.0023\n",
      "Epoch 42/100\n",
      "1521/1521 [==============================] - 2s 998us/step - loss: 0.0021\n",
      "Epoch 43/100\n",
      "1521/1521 [==============================] - 1s 985us/step - loss: 0.0019\n",
      "Epoch 44/100\n",
      "1521/1521 [==============================] - 2s 990us/step - loss: 0.0023\n",
      "Epoch 45/100\n",
      "1521/1521 [==============================] - 1s 976us/step - loss: 0.0019\n",
      "Epoch 46/100\n",
      "1521/1521 [==============================] - 2s 999us/step - loss: 0.0020\n",
      "Epoch 47/100\n",
      "1521/1521 [==============================] - 2s 1ms/step - loss: 0.0024\n",
      "Epoch 48/100\n",
      "1521/1521 [==============================] - 2s 1ms/step - loss: 0.0022\n",
      "Epoch 49/100\n",
      "1521/1521 [==============================] - 2s 1ms/step - loss: 0.0019\n",
      "Epoch 50/100\n",
      "1521/1521 [==============================] - 2s 1ms/step - loss: 0.0021\n",
      "Epoch 51/100\n",
      "1521/1521 [==============================] - 2s 1ms/step - loss: 0.0019\n",
      "Epoch 52/100\n",
      "1521/1521 [==============================] - 2s 1ms/step - loss: 0.0019\n",
      "Epoch 53/100\n",
      "1521/1521 [==============================] - 2s 1ms/step - loss: 0.0019\n",
      "Epoch 54/100\n",
      "1521/1521 [==============================] - 2s 1ms/step - loss: 0.0018\n",
      "Epoch 55/100\n",
      "1521/1521 [==============================] - 2s 1ms/step - loss: 0.0017\n",
      "Epoch 56/100\n",
      "1521/1521 [==============================] - 2s 1ms/step - loss: 0.0021\n",
      "Epoch 57/100\n",
      "1521/1521 [==============================] - 2s 1ms/step - loss: 0.0020\n",
      "Epoch 58/100\n",
      "1521/1521 [==============================] - 2s 1ms/step - loss: 0.0018\n",
      "Epoch 59/100\n",
      "1521/1521 [==============================] - 2s 1ms/step - loss: 0.0016\n",
      "Epoch 60/100\n",
      "1521/1521 [==============================] - 2s 1ms/step - loss: 0.0015\n",
      "Epoch 61/100\n",
      "1521/1521 [==============================] - 2s 1ms/step - loss: 0.0017\n",
      "Epoch 62/100\n",
      "1521/1521 [==============================] - 2s 1ms/step - loss: 0.0017\n",
      "Epoch 63/100\n",
      "1521/1521 [==============================] - 2s 1ms/step - loss: 0.0016\n",
      "Epoch 64/100\n",
      "1521/1521 [==============================] - 2s 1ms/step - loss: 0.0014\n",
      "Epoch 65/100\n",
      "1521/1521 [==============================] - 2s 1ms/step - loss: 0.0013\n",
      "Epoch 66/100\n",
      "1521/1521 [==============================] - 2s 1ms/step - loss: 0.0019\n",
      "Epoch 67/100\n",
      "1521/1521 [==============================] - 2s 1ms/step - loss: 0.0016\n",
      "Epoch 68/100\n",
      "1521/1521 [==============================] - 2s 1ms/step - loss: 0.0016\n",
      "Epoch 69/100\n",
      "1521/1521 [==============================] - 2s 1ms/step - loss: 0.0017\n",
      "Epoch 70/100\n",
      "1521/1521 [==============================] - 2s 1ms/step - loss: 0.0015\n",
      "Epoch 71/100\n",
      "1521/1521 [==============================] - 2s 1ms/step - loss: 0.0017\n",
      "Epoch 72/100\n",
      "1521/1521 [==============================] - 2s 1ms/step - loss: 0.0019\n",
      "Epoch 73/100\n",
      "1521/1521 [==============================] - 2s 1ms/step - loss: 0.0017\n",
      "Epoch 74/100\n",
      "1521/1521 [==============================] - 2s 1ms/step - loss: 0.0013\n",
      "Epoch 75/100\n",
      "1521/1521 [==============================] - 2s 1ms/step - loss: 0.0014\n",
      "Epoch 76/100\n",
      "1521/1521 [==============================] - 2s 1ms/step - loss: 0.0013\n",
      "Epoch 77/100\n",
      "1521/1521 [==============================] - 2s 1ms/step - loss: 0.0014\n",
      "Epoch 78/100\n",
      "1521/1521 [==============================] - 2s 1ms/step - loss: 0.0015\n",
      "Epoch 79/100\n",
      "1521/1521 [==============================] - 2s 1ms/step - loss: 0.0013\n",
      "Epoch 80/100\n",
      "1521/1521 [==============================] - 2s 1ms/step - loss: 0.0013\n",
      "Epoch 81/100\n",
      "1521/1521 [==============================] - 2s 1ms/step - loss: 0.0012\n",
      "Epoch 82/100\n",
      "1521/1521 [==============================] - 2s 1ms/step - loss: 0.0011\n",
      "Epoch 83/100\n",
      "1521/1521 [==============================] - 2s 1ms/step - loss: 0.0013\n",
      "Epoch 84/100\n",
      "1521/1521 [==============================] - 2s 1ms/step - loss: 0.0013\n",
      "Epoch 85/100\n",
      "1521/1521 [==============================] - 2s 1ms/step - loss: 0.0011\n",
      "Epoch 86/100\n",
      "1521/1521 [==============================] - 2s 1ms/step - loss: 0.0011\n",
      "Epoch 87/100\n",
      "1521/1521 [==============================] - 2s 1ms/step - loss: 0.0011A: 0s - loss: 0.001\n",
      "Epoch 88/100\n",
      "1521/1521 [==============================] - 2s 1ms/step - loss: 0.0011\n",
      "Epoch 89/100\n",
      "1521/1521 [==============================] - 2s 1ms/step - loss: 0.0013\n",
      "Epoch 90/100\n",
      "1521/1521 [==============================] - 2s 1ms/step - loss: 0.0012A: 0\n",
      "Epoch 91/100\n",
      "1521/1521 [==============================] - 2s 1ms/step - loss: 0.0012\n",
      "Epoch 92/100\n",
      "1521/1521 [==============================] - 2s 1ms/step - loss: 0.0011\n",
      "Epoch 93/100\n",
      "1521/1521 [==============================] - 2s 1ms/step - loss: 0.0011\n",
      "Epoch 94/100\n",
      "1521/1521 [==============================] - 2s 1ms/step - loss: 0.0014\n",
      "Epoch 95/100\n"
     ]
    },
    {
     "name": "stdout",
     "output_type": "stream",
     "text": [
      "1521/1521 [==============================] - 2s 1ms/step - loss: 0.0011\n",
      "Epoch 96/100\n",
      "1521/1521 [==============================] - 2s 1ms/step - loss: 0.0011A: 0s - \n",
      "Epoch 97/100\n",
      "1521/1521 [==============================] - 2s 1ms/step - loss: 0.0011\n",
      "Epoch 98/100\n",
      "1521/1521 [==============================] - 2s 1ms/step - loss: 0.0012A: 0s - l\n",
      "Epoch 99/100\n",
      "1521/1521 [==============================] - 2s 1ms/step - loss: 0.0011\n",
      "Epoch 100/100\n",
      "1521/1521 [==============================] - 2s 1ms/step - loss: 0.0011\n"
     ]
    },
    {
     "data": {
      "text/plain": [
       "<keras.callbacks.callbacks.History at 0x28240421488>"
      ]
     },
     "execution_count": 8,
     "metadata": {},
     "output_type": "execute_result"
    }
   ],
   "source": [
    "model = Sequential()\n",
    "model.add(LSTM(4, batch_input_shape=(1, X_train.shape[1], X_train.shape[2]), stateful=True))\n",
    "model.add(Dense(1))\n",
    "model.compile(loss='mean_squared_error', optimizer='adam')\n",
    "model.fit(X_train, y_train, nb_epoch=100, batch_size=1, verbose=1, shuffle=False)"
   ]
  },
  {
   "cell_type": "markdown",
   "metadata": {},
   "source": [
    "### Prediction for test data"
   ]
  },
  {
   "cell_type": "code",
   "execution_count": 9,
   "metadata": {},
   "outputs": [
    {
     "name": "stdout",
     "output_type": "stream",
     "text": [
      "    pred_value  date\n",
      "0          555  1886\n",
      "1          419  1887\n",
      "2          353  1888\n",
      "3          471  1889\n",
      "4          509  1890\n",
      "5          726  1891\n",
      "6          653  1892\n",
      "7          505  1893\n",
      "8          468  1894\n",
      "9          472  1895\n",
      "10         381  1896\n",
      "11         500  1897\n",
      "12         535  1898\n",
      "13         653  1899\n",
      "14         579  1900\n",
      "15         293  1901\n",
      "16         569  1902\n",
      "17         500  1903\n",
      "18         580  1904\n",
      "19         775  1905\n",
      "20         726  1906\n",
      "21         455  1907\n",
      "22         358  1908\n",
      "23         502  1909\n",
      "24         434  1910\n",
      "25         555  1911\n",
      "26         645  1912\n",
      "27         605  1913\n"
     ]
    }
   ],
   "source": [
    "y_pred = model.predict(X_test,batch_size=1)\n",
    "y_pred = y_pred.reshape(y_pred.shape[0], 1, y_pred.shape[1])\n",
    "pred_test_set = []\n",
    "for index in range(0,len(y_pred)):\n",
    "    pred_test_set.append(np.concatenate([y_pred[index],X_test[index]],axis=1))\n",
    "pred_test_set = np.array(pred_test_set)\n",
    "pred_test_set = pred_test_set.reshape(pred_test_set.shape[0], pred_test_set.shape[2])\n",
    "pred_test_set_inverted = scaler.inverse_transform(pred_test_set)\n",
    "\n",
    "result_list = []\n",
    "sales_dates = list(df_for_use[-84:-56].d)\n",
    "for index in range(0,len(pred_test_set_inverted)):\n",
    "    result_dict = {}\n",
    "    result_dict['pred_value'] = int(pred_test_set_inverted[index][0])\n",
    "    result_dict['date'] = sales_dates[index]\n",
    "    result_list.append(result_dict)\n",
    "df_result = pd.DataFrame(result_list)\n",
    "print(df_result)"
   ]
  },
  {
   "cell_type": "markdown",
   "metadata": {},
   "source": [
    "### Plot performance of test set"
   ]
  },
  {
   "cell_type": "code",
   "execution_count": 10,
   "metadata": {},
   "outputs": [
    {
     "data": {
      "text/plain": [
       "<matplotlib.legend.Legend at 0x28240f4f588>"
      ]
     },
     "execution_count": 10,
     "metadata": {},
     "output_type": "execute_result"
    },
    {
     "data": {
      "image/png": "[encoded data removed]",
      "text/plain": [
       "<Figure size 720x288 with 1 Axes>"
      ]
     },
     "metadata": {
      "needs_background": "light"
     },
     "output_type": "display_data"
    }
   ],
   "source": [
    "fig, ax = plt.subplots(figsize=(10, 4))\n",
    "ax.plot(df_for_use['d'][-84:-56], df_for_use['sales'][-84:-56], label = 'True')\n",
    "ax.plot(df_result['date'], df_result['pred_value'], label = 'Prediction')\n",
    "ax.set_title('Performance')\n",
    "ax.legend()"
   ]
  },
  {
   "cell_type": "markdown",
   "metadata": {},
   "source": [
    "### Predict all groups\n",
    "\n",
    "Total: 30 models (3 categories * 10 stores)\n",
    "\n",
    "Predict each product (each id) by using it's groups model.\n",
    "\n",
    "Time: about 4 hours (for loop is not a good way )\n",
    "\n",
    "Score: 3.459"
   ]
  },
  {
   "cell_type": "code",
   "execution_count": null,
   "metadata": {},
   "outputs": [],
   "source": [
    "submission_colnames = ['id']\n",
    "for i in range(1,29):\n",
    "    submission_colnames.append('F'+str(i))\n",
    "submission_all = pd.DataFrame(columns = submission_colnames)\n",
    "for cat in sales_fill_date['cat_id'].unique():\n",
    "    for store in sales_fill_date['store_id'].unique():\n",
    "        df = sales_fill_date[(sales_fill_date['cat_id']==cat) & (sales_fill_date['store_id']==store)]\n",
    "        df_melt = pd.melt(df, id_vars=df.columns[:6], value_vars=df.columns[6:])\n",
    "        df_melt.columns = ['id', 'item_id', 'dept_id', 'cat_id', 'store_id', 'state_id', 'd', 'sales']\n",
    "        df_all = pd.merge(df_melt, calendar, how = 'left')\n",
    "        df_all = pd.merge(df_all, sell_price, how = 'left')\n",
    "        \n",
    "        df_for_use = df_all[['d', 'sales']].groupby(['d']).sum().reset_index()\n",
    "        df_for_use['d'] = df_for_use['d'].str.replace('d_', '').astype('int')\n",
    "        df_for_use = df_for_use.sort_values(['d'])\n",
    "\n",
    "        df_supervised = df_for_use.copy()\n",
    "        for inc in range(56,365):\n",
    "            field_name = 'lag_' + str(inc)\n",
    "            df_supervised[field_name] = df_supervised['sales'].shift(inc)\n",
    "        df_supervised = df_supervised.dropna().reset_index(drop=True)\n",
    "\n",
    "        df_model = df_supervised.drop(['sales','d'],axis=1)\n",
    "        train_set = df_model[0:-56].values\n",
    "        \n",
    "        scaler = MinMaxScaler(feature_range=(-1, 1))\n",
    "        scaler = scaler.fit(train_set)\n",
    "        \n",
    "        train_set = train_set.reshape(train_set.shape[0], train_set.shape[1])\n",
    "        train_set_scaled = scaler.transform(train_set)\n",
    "        \n",
    "        X_train, y_train = train_set_scaled[:, 1:], train_set_scaled[:, 0:1]\n",
    "        X_train = X_train.reshape(X_train.shape[0], 1, X_train.shape[1])\n",
    "        \n",
    "        model = Sequential()\n",
    "        model.add(LSTM(4, batch_input_shape=(1, X_train.shape[1], X_train.shape[2]), stateful=True))\n",
    "        model.add(Dense(1))\n",
    "        model.compile(loss='mean_squared_error', optimizer='adam')\n",
    "        model.fit(X_train, y_train, nb_epoch=100, batch_size=1, verbose=1, shuffle=False)\n",
    "        \n",
    "        for ID in df_melt['id'].unique():\n",
    "            val = df_melt[df_melt['id']==ID][['id', 'd', 'sales']].copy().reset_index(drop = True)\n",
    "            val['d'] = val['d'].str.replace('d_', '').astype('int')\n",
    "            val = val.sort_values(['d'])\n",
    "            val = val.fillna(0)\n",
    "            for inc in range(56,365):\n",
    "                field_name = 'lag_' + str(inc)\n",
    "                val[field_name] = val['sales'].shift(inc)\n",
    "            val = val.dropna().reset_index(drop=True)\n",
    "            val = val.drop(['id', 'sales','d'],axis=1)\n",
    "            val = val[-56:].values\n",
    "        \n",
    "            scaler = MinMaxScaler(feature_range=(-1, 1))\n",
    "            scaler = scaler.fit(val)\n",
    "            \n",
    "            val = val.reshape(val.shape[0], val.shape[1])\n",
    "            val_scaled = scaler.transform(val)\n",
    "            X_val = val_scaled[:, 1:]\n",
    "            X_val = X_val.reshape(X_val.shape[0], 1, X_val.shape[1])\n",
    "            \n",
    "            lstm_pred = model.predict(X_val,batch_size=1)\n",
    "            lstm_pred = lstm_pred.reshape(lstm_pred.shape[0], 1, lstm_pred.shape[1])\n",
    "            val_pred_set = []\n",
    "            for index in range(0,len(lstm_pred)):\n",
    "                val_pred_set.append(np.concatenate([lstm_pred[index],X_val[index]],axis=1))\n",
    "            val_pred_set = np.array(val_pred_set)\n",
    "            val_pred_set = val_pred_set.reshape(val_pred_set.shape[0], val_pred_set.shape[2])\n",
    "            val_pred_set_inverted = scaler.inverse_transform(val_pred_set)\n",
    "            \n",
    "            result_list = []\n",
    "            sales_dates = list(df_for_use[-56:].d)\n",
    "            for index in range(0,len(val_pred_set_inverted)):\n",
    "                result_dict = {}\n",
    "                result_dict['pred_value'] = int(val_pred_set_inverted[index][0])\n",
    "                result_dict['date'] = sales_dates[index]\n",
    "                result_list.append(result_dict)\n",
    "            df_result = pd.DataFrame(result_list)\n",
    "        \n",
    "            final_val = np.transpose(pd.DataFrame([ID] + list(df_result['pred_value'].iloc[0:28,])))\n",
    "            final_eval = np.transpose(pd.DataFrame([ID] + list(df_result['pred_value'].iloc[28:,])))\n",
    "\n",
    "            final_val.columns = submission_colnames\n",
    "            final_eval.columns = submission_colnames\n",
    "            \n",
    "            final_eval['id'] = final_eval['id'].str.replace('validation', 'evaluation')\n",
    "            \n",
    "            submission = pd.concat([final_val, final_eval], axis = 0).reset_index(drop = True)\n",
    "        \n",
    "            submission_all = pd.concat([submission_all, submission], axis = 0)\n",
    "                \n",
    "submission_all.to_csv(r'G:\\我的雲端硬碟\\UIUC-IS\\Kaggle\\m5-forecasting-accuracy\\submission_lstm2.csv', index = False)    \n"
   ]
  }
 ],
 "metadata": {
  "kernelspec": {
   "display_name": "Python 3",
   "language": "python",
   "name": "python3"
  },
  "language_info": {
   "codemirror_mode": {
    "name": "ipython",
    "version": 3
   },
   "file_extension": ".py",
   "mimetype": "text/x-python",
   "name": "python",
   "nbconvert_exporter": "python",
   "pygments_lexer": "ipython3",
   "version": "3.7.7"
  }
 },
 "nbformat": 4,
 "nbformat_minor": 4
}
