{
 "cells": [
  {
   "cell_type": "code",
   "execution_count": 1,
   "metadata": {},
   "outputs": [],
   "source": [
    "import pandas as pd\n",
    "import numpy as np\n",
    "import matplotlib.pyplot as plt\n",
    "import xgboost as xgb\n",
    "import lightgbm as lgb\n",
    "from sklearn.model_selection import GridSearchCV"
   ]
  },
  {
   "cell_type": "markdown",
   "metadata": {},
   "source": [
    "### Read Data"
   ]
  },
  {
   "cell_type": "code",
   "execution_count": 2,
   "metadata": {},
   "outputs": [],
   "source": [
    "calendar = pd.read_csv(r'G:\\我的雲端硬碟\\UIUC-IS\\Kaggle\\m5-forecasting-accuracy\\calendar.csv')\n",
    "sales = pd.read_csv(r'G:\\我的雲端硬碟\\UIUC-IS\\Kaggle\\m5-forecasting-accuracy\\sales_train_validation.csv')\n",
    "sell_price = pd.read_csv(r'G:\\我的雲端硬碟\\UIUC-IS\\Kaggle\\m5-forecasting-accuracy\\sell_prices.csv')"
   ]
  },
  {
   "cell_type": "markdown",
   "metadata": {},
   "source": [
    "### Fill in the columns to be predicted\n",
    "History data : d_1 ~ d_1913\n",
    "\n",
    "Predict:\n",
    "- Validation : d_1914 ~ d_1941\n",
    "- Evaluation : d_1942 ~ d_1969"
   ]
  },
  {
   "cell_type": "code",
   "execution_count": 5,
   "metadata": {},
   "outputs": [
    {
     "name": "stdout",
     "output_type": "stream",
     "text": [
      "                                  id        item_id    dept_id   cat_id  \\\n",
      "0      HOBBIES_1_001_CA_1_validation  HOBBIES_1_001  HOBBIES_1  HOBBIES   \n",
      "1      HOBBIES_1_002_CA_1_validation  HOBBIES_1_002  HOBBIES_1  HOBBIES   \n",
      "2      HOBBIES_1_003_CA_1_validation  HOBBIES_1_003  HOBBIES_1  HOBBIES   \n",
      "3      HOBBIES_1_004_CA_1_validation  HOBBIES_1_004  HOBBIES_1  HOBBIES   \n",
      "4      HOBBIES_1_005_CA_1_validation  HOBBIES_1_005  HOBBIES_1  HOBBIES   \n",
      "...                              ...            ...        ...      ...   \n",
      "30485    FOODS_3_823_WI_3_validation    FOODS_3_823    FOODS_3    FOODS   \n",
      "30486    FOODS_3_824_WI_3_validation    FOODS_3_824    FOODS_3    FOODS   \n",
      "30487    FOODS_3_825_WI_3_validation    FOODS_3_825    FOODS_3    FOODS   \n",
      "30488    FOODS_3_826_WI_3_validation    FOODS_3_826    FOODS_3    FOODS   \n",
      "30489    FOODS_3_827_WI_3_validation    FOODS_3_827    FOODS_3    FOODS   \n",
      "\n",
      "      store_id state_id  d_1  d_2  d_3  d_4  ...  d_1960  d_1961  d_1962  \\\n",
      "0         CA_1       CA    0    0    0    0  ...     NaN     NaN     NaN   \n",
      "1         CA_1       CA    0    0    0    0  ...     NaN     NaN     NaN   \n",
      "2         CA_1       CA    0    0    0    0  ...     NaN     NaN     NaN   \n",
      "3         CA_1       CA    0    0    0    0  ...     NaN     NaN     NaN   \n",
      "4         CA_1       CA    0    0    0    0  ...     NaN     NaN     NaN   \n",
      "...        ...      ...  ...  ...  ...  ...  ...     ...     ...     ...   \n",
      "30485     WI_3       WI    0    0    2    2  ...     NaN     NaN     NaN   \n",
      "30486     WI_3       WI    0    0    0    0  ...     NaN     NaN     NaN   \n",
      "30487     WI_3       WI    0    6    0    2  ...     NaN     NaN     NaN   \n",
      "30488     WI_3       WI    0    0    0    0  ...     NaN     NaN     NaN   \n",
      "30489     WI_3       WI    0    0    0    0  ...     NaN     NaN     NaN   \n",
      "\n",
      "       d_1963  d_1964  d_1965  d_1966  d_1967  d_1968  d_1969  \n",
      "0         NaN     NaN     NaN     NaN     NaN     NaN     NaN  \n",
      "1         NaN     NaN     NaN     NaN     NaN     NaN     NaN  \n",
      "2         NaN     NaN     NaN     NaN     NaN     NaN     NaN  \n",
      "3         NaN     NaN     NaN     NaN     NaN     NaN     NaN  \n",
      "4         NaN     NaN     NaN     NaN     NaN     NaN     NaN  \n",
      "...       ...     ...     ...     ...     ...     ...     ...  \n",
      "30485     NaN     NaN     NaN     NaN     NaN     NaN     NaN  \n",
      "30486     NaN     NaN     NaN     NaN     NaN     NaN     NaN  \n",
      "30487     NaN     NaN     NaN     NaN     NaN     NaN     NaN  \n",
      "30488     NaN     NaN     NaN     NaN     NaN     NaN     NaN  \n",
      "30489     NaN     NaN     NaN     NaN     NaN     NaN     NaN  \n",
      "\n",
      "[30490 rows x 1975 columns]\n"
     ]
    }
   ],
   "source": [
    "sales_fill_date = sales.copy()\n",
    "date_list = []\n",
    "for i in range(1914, 1970):\n",
    "    date_list.append('d_'+str(i))\n",
    "fill_date = pd.DataFrame(columns = date_list)\n",
    "sales_fill_date = pd.concat([sales_fill_date, fill_date], axis = 1)\n",
    "print(sales_fill_date)"
   ]
  },
  {
   "cell_type": "markdown",
   "metadata": {},
   "source": [
    "### Select a group to predict\n",
    "\n",
    "Demo\n",
    "- cat_id : HOBBIES\n",
    "- state_id : CA"
   ]
  },
  {
   "cell_type": "code",
   "execution_count": 6,
   "metadata": {},
   "outputs": [
    {
     "name": "stdout",
     "output_type": "stream",
     "text": [
      "                                    id        item_id    dept_id   cat_id  \\\n",
      "0        HOBBIES_1_001_CA_1_validation  HOBBIES_1_001  HOBBIES_1  HOBBIES   \n",
      "1        HOBBIES_1_001_CA_1_validation  HOBBIES_1_001  HOBBIES_1  HOBBIES   \n",
      "2        HOBBIES_1_001_CA_1_validation  HOBBIES_1_001  HOBBIES_1  HOBBIES   \n",
      "3        HOBBIES_1_001_CA_1_validation  HOBBIES_1_001  HOBBIES_1  HOBBIES   \n",
      "4        HOBBIES_1_001_CA_1_validation  HOBBIES_1_001  HOBBIES_1  HOBBIES   \n",
      "...                                ...            ...        ...      ...   \n",
      "4449935  HOBBIES_2_149_CA_4_validation  HOBBIES_2_149  HOBBIES_2  HOBBIES   \n",
      "4449936  HOBBIES_2_149_CA_4_validation  HOBBIES_2_149  HOBBIES_2  HOBBIES   \n",
      "4449937  HOBBIES_2_149_CA_4_validation  HOBBIES_2_149  HOBBIES_2  HOBBIES   \n",
      "4449938  HOBBIES_2_149_CA_4_validation  HOBBIES_2_149  HOBBIES_2  HOBBIES   \n",
      "4449939  HOBBIES_2_149_CA_4_validation  HOBBIES_2_149  HOBBIES_2  HOBBIES   \n",
      "\n",
      "        store_id state_id       d sales        date  wm_yr_wk  ... month  \\\n",
      "0           CA_1       CA     d_1     0  2011-01-29     11101  ...     1   \n",
      "1           CA_1       CA     d_2     0  2011-01-30     11101  ...     1   \n",
      "2           CA_1       CA     d_3     0  2011-01-31     11101  ...     1   \n",
      "3           CA_1       CA     d_4     0  2011-02-01     11101  ...     2   \n",
      "4           CA_1       CA     d_5     0  2011-02-02     11101  ...     2   \n",
      "...          ...      ...     ...   ...         ...       ...  ...   ...   \n",
      "4449935     CA_4       CA  d_1965   NaN  2016-06-15     11620  ...     6   \n",
      "4449936     CA_4       CA  d_1966   NaN  2016-06-16     11620  ...     6   \n",
      "4449937     CA_4       CA  d_1967   NaN  2016-06-17     11620  ...     6   \n",
      "4449938     CA_4       CA  d_1968   NaN  2016-06-18     11621  ...     6   \n",
      "4449939     CA_4       CA  d_1969   NaN  2016-06-19     11621  ...     6   \n",
      "\n",
      "         year  event_name_1  event_type_1  event_name_2 event_type_2 snap_CA  \\\n",
      "0        2011           NaN           NaN           NaN          NaN       0   \n",
      "1        2011           NaN           NaN           NaN          NaN       0   \n",
      "2        2011           NaN           NaN           NaN          NaN       0   \n",
      "3        2011           NaN           NaN           NaN          NaN       1   \n",
      "4        2011           NaN           NaN           NaN          NaN       1   \n",
      "...       ...           ...           ...           ...          ...     ...   \n",
      "4449935  2016           NaN           NaN           NaN          NaN       0   \n",
      "4449936  2016           NaN           NaN           NaN          NaN       0   \n",
      "4449937  2016           NaN           NaN           NaN          NaN       0   \n",
      "4449938  2016           NaN           NaN           NaN          NaN       0   \n",
      "4449939  2016  NBAFinalsEnd      Sporting  Father's day     Cultural       0   \n",
      "\n",
      "        snap_TX  snap_WI  sell_price  \n",
      "0             0        0         NaN  \n",
      "1             0        0         NaN  \n",
      "2             0        0         NaN  \n",
      "3             1        0         NaN  \n",
      "4             0        1         NaN  \n",
      "...         ...      ...         ...  \n",
      "4449935       1        1        0.97  \n",
      "4449936       0        0        0.97  \n",
      "4449937       0        0        0.97  \n",
      "4449938       0        0        0.97  \n",
      "4449939       0        0        0.97  \n",
      "\n",
      "[4449940 rows x 22 columns]\n"
     ]
    }
   ],
   "source": [
    "# Group by category & state\n",
    "sales_g1 = sales_fill_date[(sales_fill_date['cat_id']=='HOBBIES')&(sales_fill_date['state_id']=='CA')]\n",
    "\n",
    "# Transform the data\n",
    "sales_g1_melt = pd.melt(sales_g1, id_vars=sales_g1.columns[:6], value_vars=sales_g1.columns[6:])\n",
    "sales_g1_melt.columns = ['id', 'item_id', 'dept_id', 'cat_id', 'store_id', 'state_id', 'd', 'sales']\n",
    "\n",
    "# Merge all dataset\n",
    "sales_g1_melt_merge = pd.merge(sales_g1_melt, calendar, how = 'left')\n",
    "sales_g1_melt_merge = pd.merge(sales_g1_melt_merge, sell_price, how = 'left')\n",
    "sales_g1_melt_merge = sales_g1_melt_merge.sort_values(['id', 'date']).reset_index(drop = True)\n",
    "print(sales_g1_melt_merge)"
   ]
  },
  {
   "cell_type": "markdown",
   "metadata": {},
   "source": [
    "### Feature process"
   ]
  },
  {
   "cell_type": "code",
   "execution_count": 7,
   "metadata": {},
   "outputs": [],
   "source": [
    "# Select useful columns\n",
    "df = sales_g1_melt_merge[['id', 'item_id', 'dept_id', 'store_id', 'd', 'sales', 'wm_yr_wk', 'wday',\n",
    "                          'month', 'year', 'event_name_1', 'event_name_2', 'snap_CA', 'sell_price']].copy()\n",
    "# Directly change event to 0 & 1\n",
    "df['event_name_1'] = (df['event_name_1'].notnull()).astype('int')\n",
    "df['event_name_2'] = (df['event_name_2'].notnull()).astype('int')\n",
    "# Extract the last two digits for week info (eg. 11101 -> 01)\n",
    "df['wm_yr_wk'] = df['wm_yr_wk'].apply(lambda x: int(str(x)[-2:]))"
   ]
  },
  {
   "cell_type": "markdown",
   "metadata": {},
   "source": [
    "### Split data"
   ]
  },
  {
   "cell_type": "code",
   "execution_count": 8,
   "metadata": {},
   "outputs": [],
   "source": [
    "# train : d_1 ~ d_1913\n",
    "train = df.loc[df['d'].isin(list(df['d'].unique()[:-56]))]\n",
    "# train : d_1914 ~ d_1969\n",
    "test = df.loc[df['d'].isin(list(df['d'].unique()[-56:]))]\n",
    "\n",
    "# Drop the data with no price info\n",
    "train = train[train['sell_price'].notna()]\n",
    "\n",
    "X_train = train[['wm_yr_wk', 'wday', 'month', 'year', 'event_name_1', 'event_name_2', 'snap_CA', 'sell_price']]\n",
    "y_train = train['sales'].astype('int')\n",
    "X_test = test[['wm_yr_wk', 'wday', 'month', 'year', 'event_name_1', 'event_name_2', 'snap_CA', 'sell_price']]\n",
    "y_test = test['sales']"
   ]
  },
  {
   "cell_type": "markdown",
   "metadata": {},
   "source": [
    "### Modeling"
   ]
  },
  {
   "cell_type": "code",
   "execution_count": 9,
   "metadata": {},
   "outputs": [
    {
     "ename": "KeyboardInterrupt",
     "evalue": "",
     "output_type": "error",
     "traceback": [
      "\u001b[1;31m---------------------------------------------------------------------------\u001b[0m",
      "\u001b[1;31mKeyboardInterrupt\u001b[0m                         Traceback (most recent call last)",
      "\u001b[1;32m<ipython-input-9-8ebc0fda3e13>\u001b[0m in \u001b[0;36m<module>\u001b[1;34m\u001b[0m\n\u001b[0;32m      5\u001b[0m \u001b[0mparam_grid\u001b[0m \u001b[1;33m=\u001b[0m \u001b[1;33m{\u001b[0m\u001b[1;34m'learning_rate'\u001b[0m\u001b[1;33m:\u001b[0m \u001b[0mlearning_rate\u001b[0m\u001b[1;33m,\u001b[0m \u001b[1;34m'max_depth'\u001b[0m\u001b[1;33m:\u001b[0m \u001b[0mmax_depth\u001b[0m\u001b[1;33m}\u001b[0m\u001b[1;33m\u001b[0m\u001b[1;33m\u001b[0m\u001b[0m\n\u001b[0;32m      6\u001b[0m \u001b[0mcv_lgbm\u001b[0m \u001b[1;33m=\u001b[0m \u001b[0mGridSearchCV\u001b[0m\u001b[1;33m(\u001b[0m\u001b[0mlgbm\u001b[0m\u001b[1;33m,\u001b[0m \u001b[0mparam_grid\u001b[0m\u001b[1;33m,\u001b[0m \u001b[0mcv\u001b[0m\u001b[1;33m=\u001b[0m\u001b[1;36m10\u001b[0m\u001b[1;33m,\u001b[0m \u001b[0mn_jobs\u001b[0m \u001b[1;33m=\u001b[0m\u001b[1;36m1\u001b[0m\u001b[1;33m)\u001b[0m\u001b[1;33m\u001b[0m\u001b[1;33m\u001b[0m\u001b[0m\n\u001b[1;32m----> 7\u001b[1;33m \u001b[0mcv_lgbm\u001b[0m\u001b[1;33m.\u001b[0m\u001b[0mfit\u001b[0m\u001b[1;33m(\u001b[0m\u001b[0mX_train\u001b[0m\u001b[1;33m,\u001b[0m \u001b[0my_train\u001b[0m\u001b[1;33m)\u001b[0m\u001b[1;33m\u001b[0m\u001b[1;33m\u001b[0m\u001b[0m\n\u001b[0m\u001b[0;32m      8\u001b[0m \u001b[0mbest_lg\u001b[0m \u001b[1;33m=\u001b[0m \u001b[0mcv_lgbm\u001b[0m\u001b[1;33m.\u001b[0m\u001b[0mbest_estimator_\u001b[0m\u001b[1;33m\u001b[0m\u001b[1;33m\u001b[0m\u001b[0m\n\u001b[0;32m      9\u001b[0m \u001b[0mlgbm_pred\u001b[0m \u001b[1;33m=\u001b[0m \u001b[0mbest_lg\u001b[0m\u001b[1;33m.\u001b[0m\u001b[0mpredict\u001b[0m\u001b[1;33m(\u001b[0m\u001b[0mX_test\u001b[0m\u001b[1;33m)\u001b[0m\u001b[1;33m\u001b[0m\u001b[1;33m\u001b[0m\u001b[0m\n",
      "\u001b[1;32m~\\Anaconda3\\lib\\site-packages\\sklearn\\model_selection\\_search.py\u001b[0m in \u001b[0;36mfit\u001b[1;34m(self, X, y, groups, **fit_params)\u001b[0m\n\u001b[0;32m    720\u001b[0m                 \u001b[1;32mreturn\u001b[0m \u001b[0mresults_container\u001b[0m\u001b[1;33m[\u001b[0m\u001b[1;36m0\u001b[0m\u001b[1;33m]\u001b[0m\u001b[1;33m\u001b[0m\u001b[1;33m\u001b[0m\u001b[0m\n\u001b[0;32m    721\u001b[0m \u001b[1;33m\u001b[0m\u001b[0m\n\u001b[1;32m--> 722\u001b[1;33m             \u001b[0mself\u001b[0m\u001b[1;33m.\u001b[0m\u001b[0m_run_search\u001b[0m\u001b[1;33m(\u001b[0m\u001b[0mevaluate_candidates\u001b[0m\u001b[1;33m)\u001b[0m\u001b[1;33m\u001b[0m\u001b[1;33m\u001b[0m\u001b[0m\n\u001b[0m\u001b[0;32m    723\u001b[0m \u001b[1;33m\u001b[0m\u001b[0m\n\u001b[0;32m    724\u001b[0m         \u001b[0mresults\u001b[0m \u001b[1;33m=\u001b[0m \u001b[0mresults_container\u001b[0m\u001b[1;33m[\u001b[0m\u001b[1;36m0\u001b[0m\u001b[1;33m]\u001b[0m\u001b[1;33m\u001b[0m\u001b[1;33m\u001b[0m\u001b[0m\n",
      "\u001b[1;32m~\\Anaconda3\\lib\\site-packages\\sklearn\\model_selection\\_search.py\u001b[0m in \u001b[0;36m_run_search\u001b[1;34m(self, evaluate_candidates)\u001b[0m\n\u001b[0;32m   1189\u001b[0m     \u001b[1;32mdef\u001b[0m \u001b[0m_run_search\u001b[0m\u001b[1;33m(\u001b[0m\u001b[0mself\u001b[0m\u001b[1;33m,\u001b[0m \u001b[0mevaluate_candidates\u001b[0m\u001b[1;33m)\u001b[0m\u001b[1;33m:\u001b[0m\u001b[1;33m\u001b[0m\u001b[1;33m\u001b[0m\u001b[0m\n\u001b[0;32m   1190\u001b[0m         \u001b[1;34m\"\"\"Search all candidates in param_grid\"\"\"\u001b[0m\u001b[1;33m\u001b[0m\u001b[1;33m\u001b[0m\u001b[0m\n\u001b[1;32m-> 1191\u001b[1;33m         \u001b[0mevaluate_candidates\u001b[0m\u001b[1;33m(\u001b[0m\u001b[0mParameterGrid\u001b[0m\u001b[1;33m(\u001b[0m\u001b[0mself\u001b[0m\u001b[1;33m.\u001b[0m\u001b[0mparam_grid\u001b[0m\u001b[1;33m)\u001b[0m\u001b[1;33m)\u001b[0m\u001b[1;33m\u001b[0m\u001b[1;33m\u001b[0m\u001b[0m\n\u001b[0m\u001b[0;32m   1192\u001b[0m \u001b[1;33m\u001b[0m\u001b[0m\n\u001b[0;32m   1193\u001b[0m \u001b[1;33m\u001b[0m\u001b[0m\n",
      "\u001b[1;32m~\\Anaconda3\\lib\\site-packages\\sklearn\\model_selection\\_search.py\u001b[0m in \u001b[0;36mevaluate_candidates\u001b[1;34m(candidate_params)\u001b[0m\n\u001b[0;32m    709\u001b[0m                                \u001b[1;32mfor\u001b[0m \u001b[0mparameters\u001b[0m\u001b[1;33m,\u001b[0m \u001b[1;33m(\u001b[0m\u001b[0mtrain\u001b[0m\u001b[1;33m,\u001b[0m \u001b[0mtest\u001b[0m\u001b[1;33m)\u001b[0m\u001b[1;33m\u001b[0m\u001b[1;33m\u001b[0m\u001b[0m\n\u001b[0;32m    710\u001b[0m                                in product(candidate_params,\n\u001b[1;32m--> 711\u001b[1;33m                                           cv.split(X, y, groups)))\n\u001b[0m\u001b[0;32m    712\u001b[0m \u001b[1;33m\u001b[0m\u001b[0m\n\u001b[0;32m    713\u001b[0m                 \u001b[0mall_candidate_params\u001b[0m\u001b[1;33m.\u001b[0m\u001b[0mextend\u001b[0m\u001b[1;33m(\u001b[0m\u001b[0mcandidate_params\u001b[0m\u001b[1;33m)\u001b[0m\u001b[1;33m\u001b[0m\u001b[1;33m\u001b[0m\u001b[0m\n",
      "\u001b[1;32m~\\Anaconda3\\lib\\site-packages\\sklearn\\externals\\joblib\\parallel.py\u001b[0m in \u001b[0;36m__call__\u001b[1;34m(self, iterable)\u001b[0m\n\u001b[0;32m    918\u001b[0m                 \u001b[0mself\u001b[0m\u001b[1;33m.\u001b[0m\u001b[0m_iterating\u001b[0m \u001b[1;33m=\u001b[0m \u001b[0mself\u001b[0m\u001b[1;33m.\u001b[0m\u001b[0m_original_iterator\u001b[0m \u001b[1;32mis\u001b[0m \u001b[1;32mnot\u001b[0m \u001b[1;32mNone\u001b[0m\u001b[1;33m\u001b[0m\u001b[1;33m\u001b[0m\u001b[0m\n\u001b[0;32m    919\u001b[0m \u001b[1;33m\u001b[0m\u001b[0m\n\u001b[1;32m--> 920\u001b[1;33m             \u001b[1;32mwhile\u001b[0m \u001b[0mself\u001b[0m\u001b[1;33m.\u001b[0m\u001b[0mdispatch_one_batch\u001b[0m\u001b[1;33m(\u001b[0m\u001b[0miterator\u001b[0m\u001b[1;33m)\u001b[0m\u001b[1;33m:\u001b[0m\u001b[1;33m\u001b[0m\u001b[1;33m\u001b[0m\u001b[0m\n\u001b[0m\u001b[0;32m    921\u001b[0m                 \u001b[1;32mpass\u001b[0m\u001b[1;33m\u001b[0m\u001b[1;33m\u001b[0m\u001b[0m\n\u001b[0;32m    922\u001b[0m \u001b[1;33m\u001b[0m\u001b[0m\n",
      "\u001b[1;32m~\\Anaconda3\\lib\\site-packages\\sklearn\\externals\\joblib\\parallel.py\u001b[0m in \u001b[0;36mdispatch_one_batch\u001b[1;34m(self, iterator)\u001b[0m\n\u001b[0;32m    757\u001b[0m                 \u001b[1;32mreturn\u001b[0m \u001b[1;32mFalse\u001b[0m\u001b[1;33m\u001b[0m\u001b[1;33m\u001b[0m\u001b[0m\n\u001b[0;32m    758\u001b[0m             \u001b[1;32melse\u001b[0m\u001b[1;33m:\u001b[0m\u001b[1;33m\u001b[0m\u001b[1;33m\u001b[0m\u001b[0m\n\u001b[1;32m--> 759\u001b[1;33m                 \u001b[0mself\u001b[0m\u001b[1;33m.\u001b[0m\u001b[0m_dispatch\u001b[0m\u001b[1;33m(\u001b[0m\u001b[0mtasks\u001b[0m\u001b[1;33m)\u001b[0m\u001b[1;33m\u001b[0m\u001b[1;33m\u001b[0m\u001b[0m\n\u001b[0m\u001b[0;32m    760\u001b[0m                 \u001b[1;32mreturn\u001b[0m \u001b[1;32mTrue\u001b[0m\u001b[1;33m\u001b[0m\u001b[1;33m\u001b[0m\u001b[0m\n\u001b[0;32m    761\u001b[0m \u001b[1;33m\u001b[0m\u001b[0m\n",
      "\u001b[1;32m~\\Anaconda3\\lib\\site-packages\\sklearn\\externals\\joblib\\parallel.py\u001b[0m in \u001b[0;36m_dispatch\u001b[1;34m(self, batch)\u001b[0m\n\u001b[0;32m    714\u001b[0m         \u001b[1;32mwith\u001b[0m \u001b[0mself\u001b[0m\u001b[1;33m.\u001b[0m\u001b[0m_lock\u001b[0m\u001b[1;33m:\u001b[0m\u001b[1;33m\u001b[0m\u001b[1;33m\u001b[0m\u001b[0m\n\u001b[0;32m    715\u001b[0m             \u001b[0mjob_idx\u001b[0m \u001b[1;33m=\u001b[0m \u001b[0mlen\u001b[0m\u001b[1;33m(\u001b[0m\u001b[0mself\u001b[0m\u001b[1;33m.\u001b[0m\u001b[0m_jobs\u001b[0m\u001b[1;33m)\u001b[0m\u001b[1;33m\u001b[0m\u001b[1;33m\u001b[0m\u001b[0m\n\u001b[1;32m--> 716\u001b[1;33m             \u001b[0mjob\u001b[0m \u001b[1;33m=\u001b[0m \u001b[0mself\u001b[0m\u001b[1;33m.\u001b[0m\u001b[0m_backend\u001b[0m\u001b[1;33m.\u001b[0m\u001b[0mapply_async\u001b[0m\u001b[1;33m(\u001b[0m\u001b[0mbatch\u001b[0m\u001b[1;33m,\u001b[0m \u001b[0mcallback\u001b[0m\u001b[1;33m=\u001b[0m\u001b[0mcb\u001b[0m\u001b[1;33m)\u001b[0m\u001b[1;33m\u001b[0m\u001b[1;33m\u001b[0m\u001b[0m\n\u001b[0m\u001b[0;32m    717\u001b[0m             \u001b[1;31m# A job can complete so quickly than its callback is\u001b[0m\u001b[1;33m\u001b[0m\u001b[1;33m\u001b[0m\u001b[1;33m\u001b[0m\u001b[0m\n\u001b[0;32m    718\u001b[0m             \u001b[1;31m# called before we get here, causing self._jobs to\u001b[0m\u001b[1;33m\u001b[0m\u001b[1;33m\u001b[0m\u001b[1;33m\u001b[0m\u001b[0m\n",
      "\u001b[1;32m~\\Anaconda3\\lib\\site-packages\\sklearn\\externals\\joblib\\_parallel_backends.py\u001b[0m in \u001b[0;36mapply_async\u001b[1;34m(self, func, callback)\u001b[0m\n\u001b[0;32m    180\u001b[0m     \u001b[1;32mdef\u001b[0m \u001b[0mapply_async\u001b[0m\u001b[1;33m(\u001b[0m\u001b[0mself\u001b[0m\u001b[1;33m,\u001b[0m \u001b[0mfunc\u001b[0m\u001b[1;33m,\u001b[0m \u001b[0mcallback\u001b[0m\u001b[1;33m=\u001b[0m\u001b[1;32mNone\u001b[0m\u001b[1;33m)\u001b[0m\u001b[1;33m:\u001b[0m\u001b[1;33m\u001b[0m\u001b[1;33m\u001b[0m\u001b[0m\n\u001b[0;32m    181\u001b[0m         \u001b[1;34m\"\"\"Schedule a func to be run\"\"\"\u001b[0m\u001b[1;33m\u001b[0m\u001b[1;33m\u001b[0m\u001b[0m\n\u001b[1;32m--> 182\u001b[1;33m         \u001b[0mresult\u001b[0m \u001b[1;33m=\u001b[0m \u001b[0mImmediateResult\u001b[0m\u001b[1;33m(\u001b[0m\u001b[0mfunc\u001b[0m\u001b[1;33m)\u001b[0m\u001b[1;33m\u001b[0m\u001b[1;33m\u001b[0m\u001b[0m\n\u001b[0m\u001b[0;32m    183\u001b[0m         \u001b[1;32mif\u001b[0m \u001b[0mcallback\u001b[0m\u001b[1;33m:\u001b[0m\u001b[1;33m\u001b[0m\u001b[1;33m\u001b[0m\u001b[0m\n\u001b[0;32m    184\u001b[0m             \u001b[0mcallback\u001b[0m\u001b[1;33m(\u001b[0m\u001b[0mresult\u001b[0m\u001b[1;33m)\u001b[0m\u001b[1;33m\u001b[0m\u001b[1;33m\u001b[0m\u001b[0m\n",
      "\u001b[1;32m~\\Anaconda3\\lib\\site-packages\\sklearn\\externals\\joblib\\_parallel_backends.py\u001b[0m in \u001b[0;36m__init__\u001b[1;34m(self, batch)\u001b[0m\n\u001b[0;32m    547\u001b[0m         \u001b[1;31m# Don't delay the application, to avoid keeping the input\u001b[0m\u001b[1;33m\u001b[0m\u001b[1;33m\u001b[0m\u001b[1;33m\u001b[0m\u001b[0m\n\u001b[0;32m    548\u001b[0m         \u001b[1;31m# arguments in memory\u001b[0m\u001b[1;33m\u001b[0m\u001b[1;33m\u001b[0m\u001b[1;33m\u001b[0m\u001b[0m\n\u001b[1;32m--> 549\u001b[1;33m         \u001b[0mself\u001b[0m\u001b[1;33m.\u001b[0m\u001b[0mresults\u001b[0m \u001b[1;33m=\u001b[0m \u001b[0mbatch\u001b[0m\u001b[1;33m(\u001b[0m\u001b[1;33m)\u001b[0m\u001b[1;33m\u001b[0m\u001b[1;33m\u001b[0m\u001b[0m\n\u001b[0m\u001b[0;32m    550\u001b[0m \u001b[1;33m\u001b[0m\u001b[0m\n\u001b[0;32m    551\u001b[0m     \u001b[1;32mdef\u001b[0m \u001b[0mget\u001b[0m\u001b[1;33m(\u001b[0m\u001b[0mself\u001b[0m\u001b[1;33m)\u001b[0m\u001b[1;33m:\u001b[0m\u001b[1;33m\u001b[0m\u001b[1;33m\u001b[0m\u001b[0m\n",
      "\u001b[1;32m~\\Anaconda3\\lib\\site-packages\\sklearn\\externals\\joblib\\parallel.py\u001b[0m in \u001b[0;36m__call__\u001b[1;34m(self)\u001b[0m\n\u001b[0;32m    223\u001b[0m         \u001b[1;32mwith\u001b[0m \u001b[0mparallel_backend\u001b[0m\u001b[1;33m(\u001b[0m\u001b[0mself\u001b[0m\u001b[1;33m.\u001b[0m\u001b[0m_backend\u001b[0m\u001b[1;33m,\u001b[0m \u001b[0mn_jobs\u001b[0m\u001b[1;33m=\u001b[0m\u001b[0mself\u001b[0m\u001b[1;33m.\u001b[0m\u001b[0m_n_jobs\u001b[0m\u001b[1;33m)\u001b[0m\u001b[1;33m:\u001b[0m\u001b[1;33m\u001b[0m\u001b[1;33m\u001b[0m\u001b[0m\n\u001b[0;32m    224\u001b[0m             return [func(*args, **kwargs)\n\u001b[1;32m--> 225\u001b[1;33m                     for func, args, kwargs in self.items]\n\u001b[0m\u001b[0;32m    226\u001b[0m \u001b[1;33m\u001b[0m\u001b[0m\n\u001b[0;32m    227\u001b[0m     \u001b[1;32mdef\u001b[0m \u001b[0m__len__\u001b[0m\u001b[1;33m(\u001b[0m\u001b[0mself\u001b[0m\u001b[1;33m)\u001b[0m\u001b[1;33m:\u001b[0m\u001b[1;33m\u001b[0m\u001b[1;33m\u001b[0m\u001b[0m\n",
      "\u001b[1;32m~\\Anaconda3\\lib\\site-packages\\sklearn\\externals\\joblib\\parallel.py\u001b[0m in \u001b[0;36m<listcomp>\u001b[1;34m(.0)\u001b[0m\n\u001b[0;32m    223\u001b[0m         \u001b[1;32mwith\u001b[0m \u001b[0mparallel_backend\u001b[0m\u001b[1;33m(\u001b[0m\u001b[0mself\u001b[0m\u001b[1;33m.\u001b[0m\u001b[0m_backend\u001b[0m\u001b[1;33m,\u001b[0m \u001b[0mn_jobs\u001b[0m\u001b[1;33m=\u001b[0m\u001b[0mself\u001b[0m\u001b[1;33m.\u001b[0m\u001b[0m_n_jobs\u001b[0m\u001b[1;33m)\u001b[0m\u001b[1;33m:\u001b[0m\u001b[1;33m\u001b[0m\u001b[1;33m\u001b[0m\u001b[0m\n\u001b[0;32m    224\u001b[0m             return [func(*args, **kwargs)\n\u001b[1;32m--> 225\u001b[1;33m                     for func, args, kwargs in self.items]\n\u001b[0m\u001b[0;32m    226\u001b[0m \u001b[1;33m\u001b[0m\u001b[0m\n\u001b[0;32m    227\u001b[0m     \u001b[1;32mdef\u001b[0m \u001b[0m__len__\u001b[0m\u001b[1;33m(\u001b[0m\u001b[0mself\u001b[0m\u001b[1;33m)\u001b[0m\u001b[1;33m:\u001b[0m\u001b[1;33m\u001b[0m\u001b[1;33m\u001b[0m\u001b[0m\n",
      "\u001b[1;32m~\\Anaconda3\\lib\\site-packages\\sklearn\\model_selection\\_validation.py\u001b[0m in \u001b[0;36m_fit_and_score\u001b[1;34m(estimator, X, y, scorer, train, test, verbose, parameters, fit_params, return_train_score, return_parameters, return_n_test_samples, return_times, return_estimator, error_score)\u001b[0m\n\u001b[0;32m    526\u001b[0m             \u001b[0mestimator\u001b[0m\u001b[1;33m.\u001b[0m\u001b[0mfit\u001b[0m\u001b[1;33m(\u001b[0m\u001b[0mX_train\u001b[0m\u001b[1;33m,\u001b[0m \u001b[1;33m**\u001b[0m\u001b[0mfit_params\u001b[0m\u001b[1;33m)\u001b[0m\u001b[1;33m\u001b[0m\u001b[1;33m\u001b[0m\u001b[0m\n\u001b[0;32m    527\u001b[0m         \u001b[1;32melse\u001b[0m\u001b[1;33m:\u001b[0m\u001b[1;33m\u001b[0m\u001b[1;33m\u001b[0m\u001b[0m\n\u001b[1;32m--> 528\u001b[1;33m             \u001b[0mestimator\u001b[0m\u001b[1;33m.\u001b[0m\u001b[0mfit\u001b[0m\u001b[1;33m(\u001b[0m\u001b[0mX_train\u001b[0m\u001b[1;33m,\u001b[0m \u001b[0my_train\u001b[0m\u001b[1;33m,\u001b[0m \u001b[1;33m**\u001b[0m\u001b[0mfit_params\u001b[0m\u001b[1;33m)\u001b[0m\u001b[1;33m\u001b[0m\u001b[1;33m\u001b[0m\u001b[0m\n\u001b[0m\u001b[0;32m    529\u001b[0m \u001b[1;33m\u001b[0m\u001b[0m\n\u001b[0;32m    530\u001b[0m     \u001b[1;32mexcept\u001b[0m \u001b[0mException\u001b[0m \u001b[1;32mas\u001b[0m \u001b[0me\u001b[0m\u001b[1;33m:\u001b[0m\u001b[1;33m\u001b[0m\u001b[1;33m\u001b[0m\u001b[0m\n",
      "\u001b[1;32m~\\Anaconda3\\lib\\site-packages\\lightgbm\\sklearn.py\u001b[0m in \u001b[0;36mfit\u001b[1;34m(self, X, y, sample_weight, init_score, eval_set, eval_names, eval_sample_weight, eval_init_score, eval_metric, early_stopping_rounds, verbose, feature_name, categorical_feature, callbacks)\u001b[0m\n\u001b[0;32m    741\u001b[0m                                        \u001b[0mverbose\u001b[0m\u001b[1;33m=\u001b[0m\u001b[0mverbose\u001b[0m\u001b[1;33m,\u001b[0m \u001b[0mfeature_name\u001b[0m\u001b[1;33m=\u001b[0m\u001b[0mfeature_name\u001b[0m\u001b[1;33m,\u001b[0m\u001b[1;33m\u001b[0m\u001b[1;33m\u001b[0m\u001b[0m\n\u001b[0;32m    742\u001b[0m                                        \u001b[0mcategorical_feature\u001b[0m\u001b[1;33m=\u001b[0m\u001b[0mcategorical_feature\u001b[0m\u001b[1;33m,\u001b[0m\u001b[1;33m\u001b[0m\u001b[1;33m\u001b[0m\u001b[0m\n\u001b[1;32m--> 743\u001b[1;33m                                        callbacks=callbacks)\n\u001b[0m\u001b[0;32m    744\u001b[0m         \u001b[1;32mreturn\u001b[0m \u001b[0mself\u001b[0m\u001b[1;33m\u001b[0m\u001b[1;33m\u001b[0m\u001b[0m\n\u001b[0;32m    745\u001b[0m \u001b[1;33m\u001b[0m\u001b[0m\n",
      "\u001b[1;32m~\\Anaconda3\\lib\\site-packages\\lightgbm\\sklearn.py\u001b[0m in \u001b[0;36mfit\u001b[1;34m(self, X, y, sample_weight, init_score, group, eval_set, eval_names, eval_sample_weight, eval_class_weight, eval_init_score, eval_group, eval_metric, early_stopping_rounds, verbose, feature_name, categorical_feature, callbacks)\u001b[0m\n\u001b[0;32m    598\u001b[0m                               \u001b[0mverbose_eval\u001b[0m\u001b[1;33m=\u001b[0m\u001b[0mverbose\u001b[0m\u001b[1;33m,\u001b[0m \u001b[0mfeature_name\u001b[0m\u001b[1;33m=\u001b[0m\u001b[0mfeature_name\u001b[0m\u001b[1;33m,\u001b[0m\u001b[1;33m\u001b[0m\u001b[1;33m\u001b[0m\u001b[0m\n\u001b[0;32m    599\u001b[0m                               \u001b[0mcategorical_feature\u001b[0m\u001b[1;33m=\u001b[0m\u001b[0mcategorical_feature\u001b[0m\u001b[1;33m,\u001b[0m\u001b[1;33m\u001b[0m\u001b[1;33m\u001b[0m\u001b[0m\n\u001b[1;32m--> 600\u001b[1;33m                               callbacks=callbacks)\n\u001b[0m\u001b[0;32m    601\u001b[0m \u001b[1;33m\u001b[0m\u001b[0m\n\u001b[0;32m    602\u001b[0m         \u001b[1;32mif\u001b[0m \u001b[0mevals_result\u001b[0m\u001b[1;33m:\u001b[0m\u001b[1;33m\u001b[0m\u001b[1;33m\u001b[0m\u001b[0m\n",
      "\u001b[1;32m~\\Anaconda3\\lib\\site-packages\\lightgbm\\engine.py\u001b[0m in \u001b[0;36mtrain\u001b[1;34m(params, train_set, num_boost_round, valid_sets, valid_names, fobj, feval, init_model, feature_name, categorical_feature, early_stopping_rounds, evals_result, verbose_eval, learning_rates, keep_training_booster, callbacks)\u001b[0m\n\u001b[0;32m    247\u001b[0m                                     evaluation_result_list=None))\n\u001b[0;32m    248\u001b[0m \u001b[1;33m\u001b[0m\u001b[0m\n\u001b[1;32m--> 249\u001b[1;33m         \u001b[0mbooster\u001b[0m\u001b[1;33m.\u001b[0m\u001b[0mupdate\u001b[0m\u001b[1;33m(\u001b[0m\u001b[0mfobj\u001b[0m\u001b[1;33m=\u001b[0m\u001b[0mfobj\u001b[0m\u001b[1;33m)\u001b[0m\u001b[1;33m\u001b[0m\u001b[1;33m\u001b[0m\u001b[0m\n\u001b[0m\u001b[0;32m    250\u001b[0m \u001b[1;33m\u001b[0m\u001b[0m\n\u001b[0;32m    251\u001b[0m         \u001b[0mevaluation_result_list\u001b[0m \u001b[1;33m=\u001b[0m \u001b[1;33m[\u001b[0m\u001b[1;33m]\u001b[0m\u001b[1;33m\u001b[0m\u001b[1;33m\u001b[0m\u001b[0m\n",
      "\u001b[1;32m~\\Anaconda3\\lib\\site-packages\\lightgbm\\basic.py\u001b[0m in \u001b[0;36mupdate\u001b[1;34m(self, train_set, fobj)\u001b[0m\n\u001b[0;32m   1974\u001b[0m             _safe_call(_LIB.LGBM_BoosterUpdateOneIter(\n\u001b[0;32m   1975\u001b[0m                 \u001b[0mself\u001b[0m\u001b[1;33m.\u001b[0m\u001b[0mhandle\u001b[0m\u001b[1;33m,\u001b[0m\u001b[1;33m\u001b[0m\u001b[1;33m\u001b[0m\u001b[0m\n\u001b[1;32m-> 1976\u001b[1;33m                 ctypes.byref(is_finished)))\n\u001b[0m\u001b[0;32m   1977\u001b[0m             \u001b[0mself\u001b[0m\u001b[1;33m.\u001b[0m\u001b[0m__is_predicted_cur_iter\u001b[0m \u001b[1;33m=\u001b[0m \u001b[1;33m[\u001b[0m\u001b[1;32mFalse\u001b[0m \u001b[1;32mfor\u001b[0m \u001b[0m_\u001b[0m \u001b[1;32min\u001b[0m \u001b[0mrange_\u001b[0m\u001b[1;33m(\u001b[0m\u001b[0mself\u001b[0m\u001b[1;33m.\u001b[0m\u001b[0m__num_dataset\u001b[0m\u001b[1;33m)\u001b[0m\u001b[1;33m]\u001b[0m\u001b[1;33m\u001b[0m\u001b[1;33m\u001b[0m\u001b[0m\n\u001b[0;32m   1978\u001b[0m             \u001b[1;32mreturn\u001b[0m \u001b[0mis_finished\u001b[0m\u001b[1;33m.\u001b[0m\u001b[0mvalue\u001b[0m \u001b[1;33m==\u001b[0m \u001b[1;36m1\u001b[0m\u001b[1;33m\u001b[0m\u001b[1;33m\u001b[0m\u001b[0m\n",
      "\u001b[1;31mKeyboardInterrupt\u001b[0m: "
     ]
    }
   ],
   "source": [
    "lgbm = lgb.LGBMRegressor()\n",
    "# Train model\n",
    "learning_rate = [0.15, 0.2, 0.25]\n",
    "max_depth = [15, 20, 25]\n",
    "param_grid = {'learning_rate': learning_rate, 'max_depth': max_depth}\n",
    "cv_lgbm = GridSearchCV(lgbm, param_grid, cv=10, n_jobs =1)\n",
    "cv_lgbm.fit(X_train, y_train)\n",
    "best_lg = cv_lgbm.best_estimator_\n",
    "lgbm_pred = best_lg.predict(X_test)\n",
    "lgbm_pred = np.round(lgbm_pred, 0)"
   ]
  },
  {
   "cell_type": "markdown",
   "metadata": {},
   "source": [
    "### Format prediction"
   ]
  },
  {
   "cell_type": "code",
   "execution_count": null,
   "metadata": {},
   "outputs": [],
   "source": [
    "final_pred = pd.concat([test[['id', 'd']].reset_index(drop=True), pd.DataFrame(lgbm_pred)], axis=1)\n",
    "final_pred.columns = ['id', 'd', 'values']\n",
    "final_pred = final_pred.pivot(index='id', columns='d', values='values').reset_index()\n",
    "print(final_pred)"
   ]
  },
  {
   "cell_type": "markdown",
   "metadata": {},
   "source": [
    "### Predict all category\n",
    "\n",
    "Model : LGBM\n",
    "Parameter : default"
   ]
  },
  {
   "cell_type": "code",
   "execution_count": 10,
   "metadata": {},
   "outputs": [
    {
     "name": "stdout",
     "output_type": "stream",
     "text": [
      "d                                id  d_1914  d_1915  d_1916  d_1917  d_1918  \\\n",
      "0     HOBBIES_1_001_CA_1_validation     1.0     1.0     1.0     1.0     1.0   \n",
      "1     HOBBIES_1_001_CA_2_validation     1.0     1.0     1.0     1.0     1.0   \n",
      "2     HOBBIES_1_001_CA_3_validation     1.0     1.0     1.0     1.0     1.0   \n",
      "3     HOBBIES_1_001_CA_4_validation     1.0     1.0     1.0     1.0     1.0   \n",
      "4     HOBBIES_1_002_CA_1_validation     0.0     0.0     0.0     0.0     0.0   \n",
      "...                             ...     ...     ...     ...     ...     ...   \n",
      "4306    FOODS_3_826_WI_2_validation     2.0     2.0     2.0     2.0     2.0   \n",
      "4307    FOODS_3_826_WI_3_validation     2.0     2.0     2.0     2.0     2.0   \n",
      "4308    FOODS_3_827_WI_1_validation     4.0     4.0     4.0     4.0     4.0   \n",
      "4309    FOODS_3_827_WI_2_validation     4.0     4.0     4.0     4.0     4.0   \n",
      "4310    FOODS_3_827_WI_3_validation     4.0     4.0     4.0     4.0     4.0   \n",
      "\n",
      "d     d_1919  d_1920  d_1921  d_1922  ...  d_1960  d_1961  d_1962  d_1963  \\\n",
      "0        1.0     1.0     1.0     1.0  ...     1.0     1.0     1.0     1.0   \n",
      "1        1.0     1.0     1.0     1.0  ...     1.0     1.0     1.0     1.0   \n",
      "2        1.0     1.0     1.0     1.0  ...     1.0     1.0     1.0     1.0   \n",
      "3        1.0     1.0     1.0     1.0  ...     1.0     1.0     1.0     1.0   \n",
      "4        0.0     0.0     0.0     0.0  ...     0.0     0.0     0.0     0.0   \n",
      "...      ...     ...     ...     ...  ...     ...     ...     ...     ...   \n",
      "4306     3.0     3.0     2.0     2.0  ...     2.0     3.0     3.0     2.0   \n",
      "4307     3.0     3.0     2.0     2.0  ...     2.0     3.0     3.0     2.0   \n",
      "4308     5.0     5.0     4.0     4.0  ...     4.0     6.0     6.0     4.0   \n",
      "4309     5.0     5.0     4.0     4.0  ...     4.0     6.0     6.0     4.0   \n",
      "4310     5.0     5.0     4.0     4.0  ...     4.0     6.0     6.0     4.0   \n",
      "\n",
      "d     d_1964  d_1965  d_1966  d_1967  d_1968  d_1969  \n",
      "0        1.0     1.0     1.0     1.0     1.0     1.0  \n",
      "1        1.0     1.0     1.0     1.0     1.0     1.0  \n",
      "2        1.0     1.0     1.0     1.0     1.0     1.0  \n",
      "3        1.0     1.0     1.0     1.0     1.0     1.0  \n",
      "4        0.0     0.0     0.0     0.0     0.0     0.0  \n",
      "...      ...     ...     ...     ...     ...     ...  \n",
      "4306     2.0     2.0     2.0     2.0     3.0     3.0  \n",
      "4307     2.0     2.0     2.0     2.0     3.0     3.0  \n",
      "4308     5.0     5.0     4.0     4.0     5.0     5.0  \n",
      "4309     5.0     5.0     4.0     4.0     5.0     5.0  \n",
      "4310     5.0     5.0     4.0     4.0     5.0     5.0  \n",
      "\n",
      "[30490 rows x 57 columns]\n"
     ]
    }
   ],
   "source": [
    "final_all = pd.DataFrame()\n",
    "for cat in sales['cat_id'].unique():\n",
    "    for state in sales['state_id'].unique():\n",
    "        sales_group = sales_fill_date[(sales_fill_date['cat_id']==cat)&(sales_fill_date['state_id']==state)]\n",
    "        sales_group_melt = pd.melt(sales_group, id_vars=sales_group.columns[:6], value_vars=sales_group.columns[6:])\n",
    "        sales_group_melt.columns = ['id', 'item_id', 'dept_id', 'cat_id', 'store_id', 'state_id', 'd', 'sales']\n",
    "        sales_group_melt_merge = pd.merge(sales_group_melt, calendar)\n",
    "        sales_group_melt_merge = pd.merge(sales_group_melt_merge, sell_price, how = 'left')\n",
    "        sales_group_melt_merge = sales_group_melt_merge.sort_values(['id', 'date']).reset_index(drop = True)\n",
    "        if state == 'CA':\n",
    "            df = sales_group_melt_merge[['id', 'item_id', 'dept_id', 'store_id', 'd', 'sales', 'wm_yr_wk', 'wday', 'month', 'year',\n",
    "                                      'event_name_1', 'event_name_2', 'snap_CA', 'sell_price']].copy()\n",
    "        elif state == 'TX':\n",
    "            df = sales_group_melt_merge[['id', 'item_id', 'dept_id', 'store_id', 'd', 'sales', 'wm_yr_wk', 'wday', 'month', 'year',\n",
    "                                      'event_name_1', 'event_name_2', 'snap_TX', 'sell_price']].copy()\n",
    "        else:\n",
    "            df = sales_group_melt_merge[['id', 'item_id', 'dept_id', 'store_id', 'd', 'sales', 'wm_yr_wk', 'wday', 'month', 'year',\n",
    "                                         'event_name_1', 'event_name_2', 'snap_WI', 'sell_price']].copy()\n",
    "        df['event_name_1'] = (df['event_name_1'].notnull()).astype('int')\n",
    "        df['event_name_2'] = (df['event_name_2'].notnull()).astype('int')\n",
    "        # Extract the last two digits for week info\n",
    "        df['wm_yr_wk'] = df['wm_yr_wk'].apply(lambda x: int(str(x)[-2:]))\n",
    "        \n",
    "        train = df.loc[df['d'].isin(list(df['d'].unique()[:-56]))]\n",
    "        test = df.loc[df['d'].isin(list(df['d'].unique()[-56:]))]\n",
    "        \n",
    "        train = train[train['sell_price'].notna()]\n",
    "        if state == 'CA':\n",
    "            X_train = train[['wm_yr_wk', 'wday', 'month', 'year', 'event_name_1', 'event_name_2', 'snap_CA', 'sell_price']]\n",
    "            X_test = test[['wm_yr_wk', 'wday', 'month', 'year', 'event_name_1', 'event_name_2', 'snap_CA', 'sell_price']]\n",
    "        elif state == 'TX':\n",
    "            X_train = train[['wm_yr_wk', 'wday', 'month', 'year', 'event_name_1', 'event_name_2', 'snap_TX', 'sell_price']]\n",
    "            X_test = test[['wm_yr_wk', 'wday', 'month', 'year', 'event_name_1', 'event_name_2', 'snap_TX', 'sell_price']]\n",
    "        else:\n",
    "            X_train = train[['wm_yr_wk', 'wday', 'month', 'year', 'event_name_1', 'event_name_2', 'snap_WI', 'sell_price']]\n",
    "            X_test = test[['wm_yr_wk', 'wday', 'month', 'year', 'event_name_1', 'event_name_2', 'snap_WI', 'sell_price']]\n",
    "        y_train = train['sales'].astype('int')\n",
    "        y_test = test['sales']\n",
    "\n",
    "        # Modeling\n",
    "        lgbm = lgb.LGBMRegressor()\n",
    "        lgbm.fit(X_train, y_train)\n",
    "        lgbm_pred = lgbm.predict(X_test)\n",
    "        lgbm_pred = np.round(lgbm_pred, 0)\n",
    "        final_pred = pd.concat([test[['id', 'd']].reset_index(drop=True), pd.DataFrame(lgbm_pred)], axis=1)\n",
    "        final_pred.columns = ['id', 'd', 'values']\n",
    "        final_pred = final_pred.pivot(index='id', columns='d', values='values').reset_index()\n",
    "        \n",
    "        final_all = pd.concat([final_all, final_pred], axis = 0)\n",
    "        \n",
    "print(final_all)"
   ]
  },
  {
   "cell_type": "markdown",
   "metadata": {},
   "source": [
    "### Final submission processing"
   ]
  },
  {
   "cell_type": "code",
   "execution_count": 11,
   "metadata": {},
   "outputs": [
    {
     "name": "stdout",
     "output_type": "stream",
     "text": [
      "                                 id   F1   F2   F3   F4   F5   F6   F7   F8  \\\n",
      "0     HOBBIES_1_001_CA_1_validation  1.0  1.0  1.0  1.0  1.0  1.0  1.0  1.0   \n",
      "1     HOBBIES_1_001_CA_2_validation  1.0  1.0  1.0  1.0  1.0  1.0  1.0  1.0   \n",
      "2     HOBBIES_1_001_CA_3_validation  1.0  1.0  1.0  1.0  1.0  1.0  1.0  1.0   \n",
      "3     HOBBIES_1_001_CA_4_validation  1.0  1.0  1.0  1.0  1.0  1.0  1.0  1.0   \n",
      "4     HOBBIES_1_002_CA_1_validation  0.0  0.0  0.0  0.0  0.0  0.0  0.0  0.0   \n",
      "...                             ...  ...  ...  ...  ...  ...  ...  ...  ...   \n",
      "4306    FOODS_3_826_WI_2_evaluation  2.0  2.0  2.0  2.0  2.0  3.0  3.0  2.0   \n",
      "4307    FOODS_3_826_WI_3_evaluation  2.0  2.0  2.0  2.0  2.0  3.0  3.0  2.0   \n",
      "4308    FOODS_3_827_WI_1_evaluation  4.0  4.0  4.0  4.0  4.0  5.0  5.0  3.0   \n",
      "4309    FOODS_3_827_WI_2_evaluation  4.0  4.0  4.0  4.0  4.0  5.0  5.0  3.0   \n",
      "4310    FOODS_3_827_WI_3_evaluation  4.0  4.0  4.0  4.0  4.0  5.0  5.0  3.0   \n",
      "\n",
      "       F9  ...  F19  F20  F21  F22  F23  F24  F25  F26  F27  F28  \n",
      "0     1.0  ...  1.0  1.0  1.0  1.0  1.0  1.0  1.0  1.0  1.0  1.0  \n",
      "1     1.0  ...  1.0  1.0  1.0  1.0  1.0  1.0  1.0  1.0  1.0  1.0  \n",
      "2     1.0  ...  1.0  1.0  1.0  1.0  1.0  1.0  1.0  1.0  1.0  1.0  \n",
      "3     1.0  ...  1.0  1.0  1.0  1.0  1.0  1.0  1.0  1.0  1.0  1.0  \n",
      "4     0.0  ...  0.0  0.0  0.0  0.0  0.0  0.0  0.0  0.0  0.0  0.0  \n",
      "...   ...  ...  ...  ...  ...  ...  ...  ...  ...  ...  ...  ...  \n",
      "4306  2.0  ...  2.0  3.0  3.0  2.0  2.0  2.0  2.0  2.0  3.0  3.0  \n",
      "4307  2.0  ...  2.0  3.0  3.0  2.0  2.0  2.0  2.0  2.0  3.0  3.0  \n",
      "4308  4.0  ...  4.0  6.0  6.0  4.0  5.0  5.0  4.0  4.0  5.0  5.0  \n",
      "4309  4.0  ...  4.0  6.0  6.0  4.0  5.0  5.0  4.0  4.0  5.0  5.0  \n",
      "4310  4.0  ...  4.0  6.0  6.0  4.0  5.0  5.0  4.0  4.0  5.0  5.0  \n",
      "\n",
      "[60980 rows x 29 columns]\n"
     ]
    }
   ],
   "source": [
    "# Validation : d_1914 ~ d_1941\n",
    "final_val = final_all.iloc[:,:29]\n",
    "# Evaluation : d_1942 ~ d_1969\n",
    "final_eval = pd.concat([final_all.iloc[:,0], final_all.iloc[:,29:]], axis = 1)\n",
    "final_eval['id'] = final_eval['id'].str.replace('validation', 'evaluation')\n",
    "\n",
    "submission_colnames = ['id']\n",
    "for i in range(1,29):\n",
    "    submission_colnames.append('F'+str(i))\n",
    "\n",
    "final_val.columns = submission_colnames\n",
    "final_eval.columns = submission_colnames\n",
    "\n",
    "submission = pd.concat([final_val, final_eval], axis = 0)\n",
    "#submission.to_csv(r'G:\\我的雲端硬碟\\UIUC-IS\\Kaggle\\m5-forecasting-accuracy\\submission.csv', index = False)\n",
    "print(submission)"
   ]
  },
  {
   "cell_type": "markdown",
   "metadata": {},
   "source": [
    "### Next step\n",
    "\n",
    "- feature extract (event)\n",
    "- model evaluation (tune para, different model)\n",
    "- time series method"
   ]
  },
  {
   "cell_type": "code",
   "execution_count": null,
   "metadata": {},
   "outputs": [],
   "source": []
  }
 ],
 "metadata": {
  "kernelspec": {
   "display_name": "Python 3",
   "language": "python",
   "name": "python3"
  },
  "language_info": {
   "codemirror_mode": {
    "name": "ipython",
    "version": 3
   },
   "file_extension": ".py",
   "mimetype": "text/x-python",
   "name": "python",
   "nbconvert_exporter": "python",
   "pygments_lexer": "ipython3",
   "version": "3.7.7"
  }
 },
 "nbformat": 4,
 "nbformat_minor": 4
}
